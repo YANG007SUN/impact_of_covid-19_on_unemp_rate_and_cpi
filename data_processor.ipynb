{
 "cells": [
  {
   "cell_type": "code",
   "execution_count": 23,
   "metadata": {},
   "outputs": [],
   "source": [
    "import pandas as pd\n",
    "import datetime\n"
   ]
  },
  {
   "cell_type": "code",
   "execution_count": 38,
   "metadata": {},
   "outputs": [],
   "source": [
    "# read in data from NY times github\n",
    "covid_data = pd.read_csv(\"https://raw.githubusercontent.com/nytimes/covid-19-data/master/us-states.csv\")\n",
    "\n"
   ]
  },
  {
   "cell_type": "code",
   "execution_count": 41,
   "metadata": {},
   "outputs": [],
   "source": [
    "# separate month and year\n",
    "covid_data[\"month\"] = [datetime.datetime.strptime(d,\"%Y-%m-%d\").month for d in covid_data[\"date\"]]\n",
    "covid_data[\"year\"] = [datetime.datetime.strptime(d,\"%Y-%m-%d\").year for d in covid_data[\"date\"]]\n"
   ]
  },
  {
   "cell_type": "code",
   "execution_count": 53,
   "metadata": {},
   "outputs": [],
   "source": [
    "# aggregate on month and year and state level\n",
    "covid_data_agg = covid_data.groupby([\"year\",\"month\",\"state\"]).agg(total_cases = (\"cases\",\"sum\"),\n",
    "                                                                  total_deaths = (\"deaths\",\"sum\")).reset_index()\n",
    "\n"
   ]
  },
  {
   "cell_type": "code",
   "execution_count": 59,
   "metadata": {},
   "outputs": [],
   "source": [
    "# export to csv\n",
    "covid_data_agg.to_csv(\"resources/covid_data.csv\",index=False)\n"
   ]
  },
  {
   "cell_type": "code",
   "execution_count": null,
   "metadata": {},
   "outputs": [],
   "source": [
    "\n",
    "\n"
   ]
  }
 ],
 "metadata": {
  "kernelspec": {
   "display_name": "Python 3",
   "language": "python",
   "name": "python3"
  },
  "language_info": {
   "codemirror_mode": {
    "name": "ipython",
    "version": 3
   },
   "file_extension": ".py",
   "mimetype": "text/x-python",
   "name": "python",
   "nbconvert_exporter": "python",
   "pygments_lexer": "ipython3",
   "version": "3.7.6"
  }
 },
 "nbformat": 4,
 "nbformat_minor": 4
}
